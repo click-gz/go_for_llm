{
 "cells": [
  {
   "cell_type": "markdown",
   "id": "52dcf6de",
   "metadata": {},
   "source": [
    "https://github.com/michaelnny/InstructLLaMA\n",
    "https://github.com/sunzeyeah/RLHF\n",
    "\n",
    "InstructGPT的指令微调是通过以下流程实现的：\n",
    "\n",
    "监督微调（SFT）：\n",
    "\n",
    "\n",
    "使用人工标注的指令-答案对\n",
    "训练模型理解并准确响应具体指令\n",
    "数据质量直接影响模型输出质量\n",
    "\n",
    "\n",
    "奖励模型训练（RM）：\n",
    "\n",
    "\n",
    "收集人类对不同质量输出的排序数据\n",
    "构建奖励评分模型\n",
    "建立输出质量评估标准\n",
    "\n",
    "\n",
    "强化学习优化（PPO）：\n",
    "\n",
    "\n",
    "通过近端策略优化算法\n",
    "结合奖励模型反馈\n",
    "迭代调整模型参数\n",
    "\n"
   ]
  }
 ],
 "metadata": {
  "language_info": {
   "name": "python"
  }
 },
 "nbformat": 4,
 "nbformat_minor": 5
}
